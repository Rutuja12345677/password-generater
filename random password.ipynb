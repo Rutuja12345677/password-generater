{
 "cells": [
  {
   "cell_type": "code",
   "execution_count": null,
   "id": "47628a26",
   "metadata": {},
   "outputs": [],
   "source": [
    "import random\n",
    "import string\n",
    "\n",
    "\n",
    "def randompassword(passwordlen=10):\n",
    "    letter=string.ascii_uppercase\n",
    "    return ''.join(random.choice(letter) for i in range(passwordlen))\n",
    "print(\"random password :\\n\",randompassword())\n",
    "\n"
   ]
  }
 ],
 "metadata": {
  "kernelspec": {
   "display_name": "Python 3 (ipykernel)",
   "language": "python",
   "name": "python3"
  },
  "language_info": {
   "codemirror_mode": {
    "name": "ipython",
    "version": 3
   },
   "file_extension": ".py",
   "mimetype": "text/x-python",
   "name": "python",
   "nbconvert_exporter": "python",
   "pygments_lexer": "ipython3",
   "version": "3.9.7"
  }
 },
 "nbformat": 4,
 "nbformat_minor": 5
}
